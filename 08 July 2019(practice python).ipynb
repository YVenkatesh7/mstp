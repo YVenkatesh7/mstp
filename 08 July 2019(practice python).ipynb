{
 "cells": [
  {
   "cell_type": "code",
   "execution_count": 25,
   "metadata": {},
   "outputs": [
    {
     "name": "stdout",
     "output_type": "stream",
     "text": [
      "enter a lower number:1\n",
      "enter a upper number:100\n",
      "6 12 18 24 30 36 42 48 54 60 66 72 78 84 90 96 "
     ]
    }
   ],
   "source": [
    "#Function to print all numbers divisible by 6 and not a factor of 100 in a given range(lb, ub) inclusive\n",
    "\n",
    "def numberDivisible(lb,ub):\n",
    "    for i in range(lb, ub + 1):\n",
    "        if(i%6 == 0 and 100%i != 0):\n",
    "            #1,2,4,5,10,20,25,50,100\n",
    "            \n",
    "            print(i, end =\" \")\n",
    "\n",
    "lb=int(input(\"enter a lower number:\"))\n",
    "ub=int(input(\"enter a upper number:\"))\n",
    "numberDivisible(lb,ub)"
   ]
  },
  {
   "cell_type": "code",
   "execution_count": 20,
   "metadata": {},
   "outputs": [
    {
     "name": "stdout",
     "output_type": "stream",
     "text": [
      "1\n",
      "2\n",
      "4\n",
      "5\n",
      "10\n",
      "20\n",
      "25\n",
      "50\n",
      "100\n"
     ]
    }
   ],
   "source": [
    "for i in range(1,101):\n",
    "        if(100%i == 0):\n",
    "            \n",
    "            print(i)"
   ]
  },
  {
   "cell_type": "code",
   "execution_count": 23,
   "metadata": {},
   "outputs": [
    {
     "name": "stdout",
     "output_type": "stream",
     "text": [
      "enter a lower number:1\n",
      "enter a upper number:20\n",
      "8 64 216 512 1000 1728 2744 4096 5832 8000 "
     ]
    }
   ],
   "source": [
    "#Function to find the average of cubes of all even numbers in a given range(lb, ub) inclusive\n",
    "\n",
    "def cubes(lb, ub):\n",
    "    for i in range(lb,ub+1):\n",
    "        if (i%2 == 0):\n",
    "            res = i**3\n",
    "            print(res, end = \" \")\n",
    "    \n",
    "lb=int(input(\"enter a lower number:\"))\n",
    "ub=int(input(\"enter a upper number:\"))\n",
    "cubes(lb, ub)"
   ]
  },
  {
   "cell_type": "code",
   "execution_count": 27,
   "metadata": {},
   "outputs": [
    {
     "name": "stdout",
     "output_type": "stream",
     "text": [
      "enter a number:100\n",
      "1 2 4 5 10 20 25 50 100 "
     ]
    }
   ],
   "source": [
    "# Function to generate the list of factors for a given number\n",
    "def factors(n):\n",
    "    for i in range(1, n + 1):\n",
    "        if (n%i == 0):\n",
    "            print(i, end = ' ')\n",
    "n = int(input(\"enter a number:\"))\n",
    "factors(n)   "
   ]
  },
  {
   "cell_type": "code",
   "execution_count": 30,
   "metadata": {},
   "outputs": [
    {
     "name": "stdout",
     "output_type": "stream",
     "text": [
      "enter a number:8\n",
      "40320\n"
     ]
    }
   ],
   "source": [
    "# Function to calculate the factorial of a given number\n",
    "def factorialOfNumber(n):\n",
    "    fact = 1\n",
    "    for i in range(1,n+1):\n",
    "        fact=fact*i\n",
    "    print(fact)\n",
    "        \n",
    "n = int(input(\"enter a number:\"))\n",
    "factorialOfNumber(n)"
   ]
  },
  {
   "cell_type": "code",
   "execution_count": 10,
   "metadata": {},
   "outputs": [
    {
     "name": "stdout",
     "output_type": "stream",
     "text": [
      "2 3 5 7 11 13 17 19 23 29 31 37 41 43 47 53 59 61 67 71 73 79 83 89 97 "
     ]
    }
   ],
   "source": [
    "# Function to check if a given number is Prime\n",
    "def isPrime(lb, ub):\n",
    "    for i in range(lb, ub+1):\n",
    "        if (i>1):\n",
    "            for k in range(2,i):\n",
    "                if(i%k == 0):\n",
    "                    break\n",
    "            else:\n",
    "                print(i, end = ' ')\n",
    "isPrime(1,100)"
   ]
  },
  {
   "cell_type": "code",
   "execution_count": 21,
   "metadata": {},
   "outputs": [
    {
     "name": "stdout",
     "output_type": "stream",
     "text": [
      "enter  a number:4\n",
      "4 is not prime number\n"
     ]
    }
   ],
   "source": [
    "# Function to check if a given number is Prime\n",
    "def isPrime(n):\n",
    "    if n>1:\n",
    "        for i in range(2,n):\n",
    "            if (n%i == 0):\n",
    "                print(n, \"is not prime number\")\n",
    "                break\n",
    "        else:\n",
    "            print(n, \"is a prime number\")\n",
    "n = int(input(\"enter  a number:\"))\n",
    "isPrime(n)"
   ]
  },
  {
   "cell_type": "code",
   "execution_count": 35,
   "metadata": {},
   "outputs": [
    {
     "name": "stdout",
     "output_type": "stream",
     "text": [
      "enter a n prime number avg:25\n",
      "2 3 5 7 11 13 17 19 23 100\n",
      "9\n",
      "avg: 11\n"
     ]
    }
   ],
   "source": [
    "# Function to calculate the average first N Prime numbers\n",
    "def avgOfNprimeNumbers(n):\n",
    "    res = 0\n",
    "    count = 0\n",
    "    for i in range(1,n+1):\n",
    "        if i>1:\n",
    "            for j in range(2,i):\n",
    "                if i%j == 0:\n",
    "                    break\n",
    "            else:\n",
    "                print(i, end = ' ')\n",
    "                res = i + res\n",
    "                count += 1\n",
    "    print(res)\n",
    "    print(count)\n",
    "    print(\"avg:\",res//count)\n",
    "n = int(input(\"enter a n prime number avg:\"))\n",
    "avgOfNprimeNumbers(n)"
   ]
  },
  {
   "cell_type": "code",
   "execution_count": null,
   "metadata": {},
   "outputs": [
    {
     "name": "stdout",
     "output_type": "stream",
     "text": [
      "6\n",
      "28\n",
      "496\n",
      "8128\n"
     ]
    }
   ],
   "source": [
    "# Function to generate all Perfect numbers in a given range\n",
    "def print_perfect_nums(start, end):\n",
    "    for i in range(start, end + 1):\n",
    "        sum1 = 0\n",
    "        for x in range(1, i):\n",
    "            if(i % x == 0):\n",
    "                sum1 = sum1 + x\n",
    "                \n",
    "        if (sum1 == i):\n",
    "            print(i)\n",
    "print_perfect_nums(1, 100000)"
   ]
  },
  {
   "cell_type": "code",
   "execution_count": 37,
   "metadata": {},
   "outputs": [
    {
     "name": "stdout",
     "output_type": "stream",
     "text": [
      "avg 30.6\n"
     ]
    }
   ],
   "source": [
    "# Function to calculate the average of all factorials in a given range\n",
    "def avgFactOfRange(lb, ub):\n",
    "    fact = []\n",
    "    fact1 = 1\n",
    "    count = 0\n",
    "    for i in range(lb, ub+1):\n",
    "        fact1=fact1*i\n",
    "        fact.append(fact1)\n",
    "        \n",
    "        \n",
    "        count = count + 1\n",
    "    a = sum(fact)\n",
    "    print(\"avg\",(a/count))\n",
    "    \n",
    "avgFactOfRange(1,5)"
   ]
  },
  {
   "cell_type": "code",
   "execution_count": 4,
   "metadata": {},
   "outputs": [
    {
     "data": {
      "text/plain": [
       "'APSSDC yVEnKAThhA JJKJAK jjakjkajkja JKAJKJA'"
      ]
     },
     "execution_count": 4,
     "metadata": {},
     "output_type": "execute_result"
    }
   ],
   "source": [
    "def changeCase(word):\n",
    "    newword = \"\"                     # Create a blank string\n",
    "    for i in range(0, len(word)):\n",
    "        character = word[i]          # For each letter in a word, make as individual viarable\n",
    "        if character.islower()== False: # Check if a letter in a string is already in upper case\n",
    "            newword += character.lower()  # Make a letter lower case\n",
    "        else:\n",
    "            newword += character.upper()  # Make a letter upper case # Add a modified letter in a new string\n",
    "\n",
    "    return newword\n",
    "changeCase(\"apssdc YveNkatHHa jjkjak JJAKJKAJKJA jkajkja\")"
   ]
  },
  {
   "cell_type": "code",
   "execution_count": null,
   "metadata": {},
   "outputs": [],
   "source": []
  }
 ],
 "metadata": {
  "kernelspec": {
   "display_name": "Python 3",
   "language": "python",
   "name": "python3"
  },
  "language_info": {
   "codemirror_mode": {
    "name": "ipython",
    "version": 3
   },
   "file_extension": ".py",
   "mimetype": "text/x-python",
   "name": "python",
   "nbconvert_exporter": "python",
   "pygments_lexer": "ipython3",
   "version": "3.7.3"
  }
 },
 "nbformat": 4,
 "nbformat_minor": 2
}
