{
 "cells": [
  {
   "cell_type": "code",
   "execution_count": 25,
   "metadata": {},
   "outputs": [
    {
     "name": "stdout",
     "output_type": "stream",
     "text": [
      "enter a lower number:1\n",
      "enter a upper number:100\n",
      "6 12 18 24 30 36 42 48 54 60 66 72 78 84 90 96 "
     ]
    }
   ],
   "source": [
    "#Function to print all numbers divisible by 6 and not a factor of 100 in a given range(lb, ub) inclusive\n",
    "\n",
    "def numberDivisible(lb,ub):\n",
    "    for i in range(lb, ub + 1):\n",
    "        if(i%6 == 0 and 100%i != 0):\n",
    "            #1,2,4,5,10,20,25,50,100\n",
    "            \n",
    "            print(i, end =\" \")\n",
    "\n",
    "lb=int(input(\"enter a lower number:\"))\n",
    "ub=int(input(\"enter a upper number:\"))\n",
    "numberDivisible(lb,ub)"
   ]
  },
  {
   "cell_type": "code",
   "execution_count": 20,
   "metadata": {},
   "outputs": [
    {
     "name": "stdout",
     "output_type": "stream",
     "text": [
      "1\n",
      "2\n",
      "4\n",
      "5\n",
      "10\n",
      "20\n",
      "25\n",
      "50\n",
      "100\n"
     ]
    }
   ],
   "source": [
    "for i in range(1,101):\n",
    "        if(100%i == 0):\n",
    "            \n",
    "            print(i)"
   ]
  },
  {
   "cell_type": "code",
   "execution_count": 23,
   "metadata": {},
   "outputs": [
    {
     "name": "stdout",
     "output_type": "stream",
     "text": [
      "enter a lower number:1\n",
      "enter a upper number:20\n",
      "8 64 216 512 1000 1728 2744 4096 5832 8000 "
     ]
    }
   ],
   "source": [
    "#Function to find the average of cubes of all even numbers in a given range(lb, ub) inclusive\n",
    "\n",
    "def cubes(lb, ub):\n",
    "    for i in range(lb,ub+1):\n",
    "        if (i%2 == 0):\n",
    "            res = i**3\n",
    "            print(res, end = \" \")\n",
    "    \n",
    "lb=int(input(\"enter a lower number:\"))\n",
    "ub=int(input(\"enter a upper number:\"))\n",
    "cubes(lb, ub)"
   ]
  },
  {
   "cell_type": "code",
   "execution_count": 27,
   "metadata": {},
   "outputs": [
    {
     "name": "stdout",
     "output_type": "stream",
     "text": [
      "enter a number:100\n",
      "1 2 4 5 10 20 25 50 100 "
     ]
    }
   ],
   "source": [
    "# Function to generate the list of factors for a given number\n",
    "def factors(n):\n",
    "    for i in range(1, n + 1):\n",
    "        if (n%i == 0):\n",
    "            print(i, end = ' ')\n",
    "n = int(input(\"enter a number:\"))\n",
    "factors(n)   "
   ]
  },
  {
   "cell_type": "code",
   "execution_count": 30,
   "metadata": {},
   "outputs": [
    {
     "name": "stdout",
     "output_type": "stream",
     "text": [
      "enter a number:8\n",
      "40320\n"
     ]
    }
   ],
   "source": [
    "# Function to calculate the factorial of a given number\n",
    "def factorialOfNumber(n):\n",
    "    fact = 1\n",
    "    for i in range(1,n+1):\n",
    "        fact=fact*i\n",
    "    print(fact)\n",
    "        \n",
    "n = int(input(\"enter a number:\"))\n",
    "factorialOfNumber(n)"
   ]
  },
  {
   "cell_type": "code",
   "execution_count": 10,
   "metadata": {},
   "outputs": [
    {
     "name": "stdout",
     "output_type": "stream",
     "text": [
      "2 3 5 7 11 13 17 19 23 29 31 37 41 43 47 53 59 61 67 71 73 79 83 89 97 "
     ]
    }
   ],
   "source": [
    "# Function to check if a given number is Prime\n",
    "def isPrime(lb, ub):\n",
    "    for i in range(lb, ub+1):\n",
    "        if (i>1):\n",
    "            for k in range(2,i):\n",
    "                if(i%k == 0):\n",
    "                    break\n",
    "            else:\n",
    "                print(i, end = ' ')\n",
    "isPrime(1,100)"
   ]
  },
  {
   "cell_type": "code",
   "execution_count": 21,
   "metadata": {},
   "outputs": [
    {
     "name": "stdout",
     "output_type": "stream",
     "text": [
      "enter  a number:4\n",
      "4 is not prime number\n"
     ]
    }
   ],
   "source": [
    "# Function to check if a given number is Prime\n",
    "def isPrime(n):\n",
    "    if n>1:\n",
    "        for i in range(2,n):\n",
    "            if (n%i == 0):\n",
    "                print(n, \"is not prime number\")\n",
    "                break\n",
    "        else:\n",
    "            print(n, \"is a prime number\")\n",
    "n = int(input(\"enter  a number:\"))\n",
    "isPrime(n)"
   ]
  },
  {
   "cell_type": "code",
   "execution_count": 35,
   "metadata": {},
   "outputs": [
    {
     "name": "stdout",
     "output_type": "stream",
     "text": [
      "enter a n prime number avg:25\n",
      "2 3 5 7 11 13 17 19 23 100\n",
      "9\n",
      "avg: 11\n"
     ]
    }
   ],
   "source": [
    "# Function to calculate the average first N Prime numbers\n",
    "def avgOfNprimeNumbers(n):\n",
    "    res = 0\n",
    "    count = 0\n",
    "    for i in range(1,n+1):\n",
    "        if i>1:\n",
    "            for j in range(2,i):\n",
    "                if i%j == 0:\n",
    "                    break\n",
    "            else:\n",
    "                print(i, end = ' ')\n",
    "                res = i + res\n",
    "                count += 1\n",
    "    print(res)\n",
    "    print(count)\n",
    "    print(\"avg:\",res//count)\n",
    "n = int(input(\"enter a n prime number avg:\"))\n",
    "avgOfNprimeNumbers(n)"
   ]
  },
  {
   "cell_type": "code",
   "execution_count": null,
   "metadata": {},
   "outputs": [
    {
     "name": "stdout",
     "output_type": "stream",
     "text": [
      "6\n",
      "28\n",
      "496\n",
      "8128\n"
     ]
    }
   ],
   "source": [
    "# Function to generate all Perfect numbers in a given range\n",
    "def print_perfect_nums(start, end):\n",
    "    for i in range(start, end + 1):\n",
    "        sum1 = 0\n",
    "        for x in range(1, i):\n",
    "            if(i % x == 0):\n",
    "                sum1 = sum1 + x\n",
    "                \n",
    "        if (sum1 == i):\n",
    "            print(i)\n",
    "print_perfect_nums(1, 100000)"
   ]
  },
  {
   "cell_type": "code",
   "execution_count": 37,
   "metadata": {},
   "outputs": [
    {
     "name": "stdout",
     "output_type": "stream",
     "text": [
      "avg 30.6\n"
     ]
    }
   ],
   "source": [
    "# Function to calculate the average of all factorials in a given range\n",
    "def avgFactOfRange(lb, ub):\n",
    "    fact = []\n",
    "    fact1 = 1\n",
    "    count = 0\n",
    "    for i in range(lb, ub+1):\n",
    "        fact1=fact1*i\n",
    "        fact.append(fact1)\n",
    "        \n",
    "        \n",
    "        count = count + 1\n",
    "    a = sum(fact)\n",
    "    print(\"avg\",(a/count))\n",
    "    \n",
    "avgFactOfRange(1,5)"
   ]
  },
  {
   "cell_type": "code",
   "execution_count": 4,
   "metadata": {},
   "outputs": [
    {
     "data": {
      "text/plain": [
       "'APSSDC yVEnKAThhA JJKJAK jjakjkajkja JKAJKJA'"
      ]
     },
     "execution_count": 4,
     "metadata": {},
     "output_type": "execute_result"
    }
   ],
   "source": [
    "def changeCase(word):\n",
    "    newword = \"\"                     # Create a blank string\n",
    "    for i in range(0, len(word)):\n",
    "        character = word[i]          # For each letter in a word, make as individual viarable\n",
    "        if character.islower()== False: # Check if a letter in a string is already in upper case\n",
    "            newword += character.lower()  # Make a letter lower case\n",
    "        else:\n",
    "            newword += character.upper()  # Make a letter upper case # Add a modified letter in a new string\n",
    "\n",
    "    return newword\n",
    "changeCase(\"apssdc YveNkatHHa jjkjak JJAKJKAJKJA jkajkja\")"
   ]
  },
  {
   "cell_type": "code",
   "execution_count": 8,
   "metadata": {},
   "outputs": [
    {
     "ename": "SyntaxError",
     "evalue": "unexpected EOF while parsing (<ipython-input-8-bb6c3a392fdc>, line 6)",
     "output_type": "error",
     "traceback": [
      "\u001b[1;36m  File \u001b[1;32m\"<ipython-input-8-bb6c3a392fdc>\"\u001b[1;36m, line \u001b[1;32m6\u001b[0m\n\u001b[1;33m    for i in di.items():\u001b[0m\n\u001b[1;37m                        ^\u001b[0m\n\u001b[1;31mSyntaxError\u001b[0m\u001b[1;31m:\u001b[0m unexpected EOF while parsing\n"
     ]
    }
   ],
   "source": [
    "di = {}\n",
    "for i in range(4):\n",
    "    name=input(\"enter name of batsman:\")\n",
    "    score=int(input(\"enter score of batsman \"))\n",
    "    di[name]=score\n"
   ]
  },
  {
   "cell_type": "code",
   "execution_count": null,
   "metadata": {},
   "outputs": [
    {
     "name": "stdout",
     "output_type": "stream",
     "text": [
      "enter number of integers :3\n",
      "enter digit number :12\n",
      "1\n",
      "2\n",
      "3\n",
      "4\n",
      "6\n"
     ]
    }
   ],
   "source": [
    "# Given 2 integers findout the number of common factors to those integers\n",
    "\n",
    "def numberOfFactors(n):\n",
    "    for i in range(n):\n",
    "        inp1 = int(input(\"enter digit number :\"))\n",
    "        for i in range(1,inp1):\n",
    "            if (inp1%i == 0):\n",
    "                print(i, end = ' ')\n",
    "n=int(input(\"enter number of integers :\"))\n",
    "numberOfFactors(n)"
   ]
  },
  {
   "cell_type": "code",
   "execution_count": 12,
   "metadata": {},
   "outputs": [
    {
     "name": "stdout",
     "output_type": "stream",
     "text": [
      "1 153 371 407 "
     ]
    }
   ],
   "source": [
    "#Function to generate N odd Armstrong numbers\n",
    "for num in range(1,1001):\n",
    "    sum = 0\n",
    "    temp = num\n",
    "    while temp > 0:\n",
    "        digit = temp%10\n",
    "        sum = sum + digit ** 3\n",
    "        temp = temp//10\n",
    "    if num == sum:\n",
    "        if num%2!=0:\n",
    "            print(num,end = ' ')"
   ]
  },
  {
   "cell_type": "code",
   "execution_count": 14,
   "metadata": {},
   "outputs": [
    {
     "name": "stdout",
     "output_type": "stream",
     "text": [
      "enter multipication number:10\n",
      "10 * 100 = 1000\n",
      "10 * 101 = 1010\n",
      "10 * 102 = 1020\n"
     ]
    }
   ],
   "source": [
    "#Function to generate Multiplication table for a number in a given range\n",
    "#10 in the range(100, 102) inclusive\n",
    "#10 x 100 = 1000\n",
    "#10 x 101 = 1010\n",
    "#10 x 102 = 1020\n",
    "def mulTable(n):\n",
    "    for i in range(100,102+1):\n",
    "        print(n,\"*\",i,\"=\",n*i)\n",
    "n = int(input(\"enter multipication number:\"))\n",
    "mulTable(n)"
   ]
  },
  {
   "cell_type": "code",
   "execution_count": 17,
   "metadata": {},
   "outputs": [
    {
     "name": "stdout",
     "output_type": "stream",
     "text": [
      "enter a String:APhshmnAJKA oAjjhdks\n",
      "apHSHMNajkaOaJJHDKS\n"
     ]
    }
   ],
   "source": [
    "#You are given a string and your task is to swap cases. In other words, convert all lowercase letters to \n",
    "# uppercase letters and vice versa. (The String may contain special characters)\n",
    "def swapCase(n):\n",
    "    string = ''\n",
    "    for i in n:\n",
    "        if i.isupper()==True:\n",
    "            string+=i.lower()\n",
    "        elif i.islower() == True:\n",
    "            string+=i.upper()      \n",
    "    print(string)\n",
    "n=input(\"enter a String:\")\n",
    "swapCase(n)\n",
    "\n"
   ]
  },
  {
   "cell_type": "code",
   "execution_count": 23,
   "metadata": {},
   "outputs": [
    {
     "name": "stdout",
     "output_type": "stream",
     "text": [
      "enter a number22\n",
      "Not Wired\n"
     ]
    }
   ],
   "source": [
    "\"\"\"Given an integer, ’n’ , perform the following conditional actions:\n",
    "If ‘n’  is odd, print Weird\n",
    "If  ‘n’ is even and in the inclusive range of 2 to 5, print Not Weird\n",
    "If  ‘n’ is even and in the inclusive range of 6 to 20 , print Weird\n",
    "If  ‘n’ is even and greater than 20, print Not Weird\n",
    "\"\"\"\n",
    "def number(n):\n",
    "    if (n%2 !=0):\n",
    "        print(\"wired\")\n",
    "    elif n in range(2,6):\n",
    "        print(\"Not Wired\")\n",
    "    elif n in range(6,21):\n",
    "        print(\"wired\")\n",
    "    elif n>20:\n",
    "        print(\"Not Wired\")\n",
    "            \n",
    "n = int(input(\"enter a number\"))\n",
    "number(n)"
   ]
  },
  {
   "cell_type": "code",
   "execution_count": null,
   "metadata": {},
   "outputs": [],
   "source": []
  }
 ],
 "metadata": {
  "kernelspec": {
   "display_name": "Python 3",
   "language": "python",
   "name": "python3"
  },
  "language_info": {
   "codemirror_mode": {
    "name": "ipython",
    "version": 3
   },
   "file_extension": ".py",
   "mimetype": "text/x-python",
   "name": "python",
   "nbconvert_exporter": "python",
   "pygments_lexer": "ipython3",
   "version": "3.7.3"
  }
 },
 "nbformat": 4,
 "nbformat_minor": 2
}
